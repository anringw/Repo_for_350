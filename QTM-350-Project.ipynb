{
 "cells": [
  {
   "cell_type": "code",
   "execution_count": 1,
   "metadata": {},
   "outputs": [],
   "source": [
    "import time\n",
    "import boto3\n",
    "import json\n",
    "import pprint\n",
    "import pandas as pd\n",
    "transcribe = boto3.client('transcribe')"
   ]
  },
  {
   "cell_type": "markdown",
   "metadata": {},
   "source": [
    "## Create the transcripts and store in S3 bucket:"
   ]
  },
  {
   "cell_type": "code",
   "execution_count": null,
   "metadata": {},
   "outputs": [],
   "source": [
    "job_name = \"American_Easy_Transcribed\"\n",
    "job_uri = \"https://350-public-audio-files.s3.amazonaws.com/American+Easy+Audio+Extracted.wav\"\n",
    "\n",
    "transcribe.start_transcription_job(\n",
    "    TranscriptionJobName=job_name,\n",
    "    Media={'MediaFileUri': job_uri},\n",
    "    MediaFormat='wav',\n",
    "    LanguageCode='en-US',\n",
    "    OutputBucketName='350-public-generated-transcript'\n",
    ")\n",
    "while True:\n",
    "    status = transcribe.get_transcription_job(TranscriptionJobName=job_name)\n",
    "    if status['TranscriptionJob']['TranscriptionJobStatus'] in ['COMPLETED', 'FAILED']:\n",
    "        break\n",
    "    print(\"Not ready yet...\")\n",
    "    time.sleep(10)\n",
    "print(status)"
   ]
  },
  {
   "cell_type": "code",
   "execution_count": null,
   "metadata": {},
   "outputs": [],
   "source": [
    "job_name = \"American_Medium_Transcribed_Correct\"\n",
    "job_uri = \"https://350-public-audio-files.s3.amazonaws.com/American+Medium+Audio+Extracted+2.wav\"\n",
    "\n",
    "transcribe.start_transcription_job(\n",
    "    TranscriptionJobName=job_name,\n",
    "    Media={'MediaFileUri': job_uri},\n",
    "    MediaFormat='wav',\n",
    "    LanguageCode='en-US',\n",
    "    OutputBucketName='350-public-generated-transcript'\n",
    ")\n",
    "while True:\n",
    "    status = transcribe.get_transcription_job(TranscriptionJobName=job_name)\n",
    "    if status['TranscriptionJob']['TranscriptionJobStatus'] in ['COMPLETED', 'FAILED']:\n",
    "        break\n",
    "    print(\"Not ready yet...\")\n",
    "    time.sleep(10)\n",
    "print(status)"
   ]
  },
  {
   "cell_type": "code",
   "execution_count": null,
   "metadata": {},
   "outputs": [],
   "source": [
    "job_name = \"American_Hard_Transcribed\"\n",
    "job_uri = \"https://350-public-audio-files.s3.amazonaws.com/American+Hard+Audio+Extracted.wav\"\n",
    "\n",
    "transcribe.start_transcription_job(\n",
    "    TranscriptionJobName=job_name,\n",
    "    Media={'MediaFileUri': job_uri},\n",
    "    MediaFormat='wav',\n",
    "    LanguageCode='en-US',\n",
    "    OutputBucketName='350-public-generated-transcript'\n",
    ")\n",
    "while True:\n",
    "    status = transcribe.get_transcription_job(TranscriptionJobName=job_name)\n",
    "    if status['TranscriptionJob']['TranscriptionJobStatus'] in ['COMPLETED', 'FAILED']:\n",
    "        break\n",
    "    print(\"Not ready yet...\")\n",
    "    time.sleep(10)\n",
    "print(status)"
   ]
  },
  {
   "cell_type": "code",
   "execution_count": null,
   "metadata": {},
   "outputs": [],
   "source": [
    "job_name = \"British_Easy_Transcribed_Correct\"\n",
    "job_uri = \"https://350-public-audio-files.s3.amazonaws.com/British+Easy+Audio+Extracted.wav\"\n",
    "\n",
    "transcribe.start_transcription_job(\n",
    "    TranscriptionJobName=job_name,\n",
    "    Media={'MediaFileUri': job_uri},\n",
    "    MediaFormat='wav',\n",
    "    LanguageCode='en-US',\n",
    "    OutputBucketName='350-public-generated-transcript'\n",
    ")\n",
    "while True:\n",
    "    status = transcribe.get_transcription_job(TranscriptionJobName=job_name)\n",
    "    if status['TranscriptionJob']['TranscriptionJobStatus'] in ['COMPLETED', 'FAILED']:\n",
    "        break\n",
    "    print(\"Not ready yet...\")\n",
    "    time.sleep(10)\n",
    "print(status)"
   ]
  },
  {
   "cell_type": "code",
   "execution_count": null,
   "metadata": {},
   "outputs": [],
   "source": [
    "job_name = \"British_Medium_Transcribed\"\n",
    "job_uri = \"https://350-public-audio-files.s3.amazonaws.com/British+Medium+Audio+Extracted.wav\"\n",
    "\n",
    "transcribe.start_transcription_job(\n",
    "    TranscriptionJobName=job_name,\n",
    "    Media={'MediaFileUri': job_uri},\n",
    "    MediaFormat='wav',\n",
    "    LanguageCode='en-US',\n",
    "    OutputBucketName='350-public-generated-transcript'\n",
    ")\n",
    "while True:\n",
    "    status = transcribe.get_transcription_job(TranscriptionJobName=job_name)\n",
    "    if status['TranscriptionJob']['TranscriptionJobStatus'] in ['COMPLETED', 'FAILED']:\n",
    "        break\n",
    "    print(\"Not ready yet...\")\n",
    "    time.sleep(10)\n",
    "print(status)"
   ]
  },
  {
   "cell_type": "code",
   "execution_count": null,
   "metadata": {},
   "outputs": [],
   "source": [
    "job_name = \"British_Hard_Transcribed\"\n",
    "job_uri = \"https://350-public-audio-files.s3.amazonaws.com/British+Hard+Audio+Extracted.wav\"\n",
    "\n",
    "transcribe.start_transcription_job(\n",
    "    TranscriptionJobName=job_name,\n",
    "    Media={'MediaFileUri': job_uri},\n",
    "    MediaFormat='wav',\n",
    "    LanguageCode='en-US',\n",
    "    OutputBucketName='350-public-generated-transcript'\n",
    ")\n",
    "while True:\n",
    "    status = transcribe.get_transcription_job(TranscriptionJobName=job_name)\n",
    "    if status['TranscriptionJob']['TranscriptionJobStatus'] in ['COMPLETED', 'FAILED']:\n",
    "        break\n",
    "    print(\"Not ready yet...\")\n",
    "    time.sleep(10)\n",
    "print(status)"
   ]
  },
  {
   "cell_type": "code",
   "execution_count": null,
   "metadata": {},
   "outputs": [],
   "source": [
    "job_name = \"Chinese_Easy_Transcribed\"\n",
    "job_uri = \"https://350-public-audio-files.s3.amazonaws.com/Chinese+Easy+Audio+Extracted.wav\"\n",
    "\n",
    "transcribe.start_transcription_job(\n",
    "    TranscriptionJobName=job_name,\n",
    "    Media={'MediaFileUri': job_uri},\n",
    "    MediaFormat='wav',\n",
    "    LanguageCode='en-US',\n",
    "    OutputBucketName='350-public-generated-transcript'\n",
    ")\n",
    "while True:\n",
    "    status = transcribe.get_transcription_job(TranscriptionJobName=job_name)\n",
    "    if status['TranscriptionJob']['TranscriptionJobStatus'] in ['COMPLETED', 'FAILED']:\n",
    "        break\n",
    "    print(\"Not ready yet...\")\n",
    "    time.sleep(10)\n",
    "print(status)"
   ]
  },
  {
   "cell_type": "code",
   "execution_count": null,
   "metadata": {},
   "outputs": [],
   "source": [
    "job_name = \"Chinese_Medium_Transcribed\"\n",
    "job_uri = \"https://350-public-audio-files.s3.amazonaws.com/Chinese+Medium+Audio+Extracted.wav\"\n",
    "\n",
    "transcribe.start_transcription_job(\n",
    "    TranscriptionJobName=job_name,\n",
    "    Media={'MediaFileUri': job_uri},\n",
    "    MediaFormat='wav',\n",
    "    LanguageCode='en-US',\n",
    "    OutputBucketName='350-public-generated-transcript'\n",
    ")\n",
    "while True:\n",
    "    status = transcribe.get_transcription_job(TranscriptionJobName=job_name)\n",
    "    if status['TranscriptionJob']['TranscriptionJobStatus'] in ['COMPLETED', 'FAILED']:\n",
    "        break\n",
    "    print(\"Not ready yet...\")\n",
    "    time.sleep(10)\n",
    "print(status)"
   ]
  },
  {
   "cell_type": "code",
   "execution_count": null,
   "metadata": {},
   "outputs": [],
   "source": [
    "job_name = \"Chinese_Hard_Transcribed\"\n",
    "job_uri = \"https://350-public-audio-files.s3.amazonaws.com/Chinese+Hard+Audio+Extracted.wav\"\n",
    "\n",
    "transcribe.start_transcription_job(\n",
    "    TranscriptionJobName=job_name,\n",
    "    Media={'MediaFileUri': job_uri},\n",
    "    MediaFormat='wav',\n",
    "    LanguageCode='en-US',\n",
    "    OutputBucketName='350-public-generated-transcript'\n",
    ")\n",
    "while True:\n",
    "    status = transcribe.get_transcription_job(TranscriptionJobName=job_name)\n",
    "    if status['TranscriptionJob']['TranscriptionJobStatus'] in ['COMPLETED', 'FAILED']:\n",
    "        break\n",
    "    print(\"Not ready yet...\")\n",
    "    time.sleep(10)\n",
    "print(status)"
   ]
  },
  {
   "cell_type": "code",
   "execution_count": null,
   "metadata": {},
   "outputs": [],
   "source": [
    "job_name = \"Hindi_Easy_Transcribed\"\n",
    "job_uri = \"https://350-public-audio-files.s3.amazonaws.com/Hindi+Easy+Audio+Extracted.wav\"\n",
    "\n",
    "transcribe.start_transcription_job(\n",
    "    TranscriptionJobName=job_name,\n",
    "    Media={'MediaFileUri': job_uri},\n",
    "    MediaFormat='wav',\n",
    "    LanguageCode='en-US',\n",
    "    OutputBucketName='350-public-generated-transcript'\n",
    ")\n",
    "while True:\n",
    "    status = transcribe.get_transcription_job(TranscriptionJobName=job_name)\n",
    "    if status['TranscriptionJob']['TranscriptionJobStatus'] in ['COMPLETED', 'FAILED']:\n",
    "        break\n",
    "    print(\"Not ready yet...\")\n",
    "    time.sleep(10)\n",
    "print(status)"
   ]
  },
  {
   "cell_type": "code",
   "execution_count": null,
   "metadata": {},
   "outputs": [],
   "source": [
    "job_name = \"Hindi_Medium_Transcribed\"\n",
    "job_uri = \"https://350-public-audio-files.s3.amazonaws.com/Hindi+Medium+Audio+Extracted.wav\"\n",
    "\n",
    "transcribe.start_transcription_job(\n",
    "    TranscriptionJobName=job_name,\n",
    "    Media={'MediaFileUri': job_uri},\n",
    "    MediaFormat='wav',\n",
    "    LanguageCode='en-US',\n",
    "    OutputBucketName='350-public-generated-transcript'\n",
    ")\n",
    "while True:\n",
    "    status = transcribe.get_transcription_job(TranscriptionJobName=job_name)\n",
    "    if status['TranscriptionJob']['TranscriptionJobStatus'] in ['COMPLETED', 'FAILED']:\n",
    "        break\n",
    "    print(\"Not ready yet...\")\n",
    "    time.sleep(10)\n",
    "print(status)"
   ]
  },
  {
   "cell_type": "code",
   "execution_count": null,
   "metadata": {},
   "outputs": [],
   "source": [
    "job_name = \"Hindi_Hard_Transcribed\"\n",
    "job_uri = \"https://350-public-audio-files.s3.amazonaws.com/Hindi+Hard+Audio+Extracted.wav\"\n",
    "\n",
    "transcribe.start_transcription_job(\n",
    "    TranscriptionJobName=job_name,\n",
    "    Media={'MediaFileUri': job_uri},\n",
    "    MediaFormat='wav',\n",
    "    LanguageCode='en-US',\n",
    "    OutputBucketName='350-public-generated-transcript'\n",
    ")\n",
    "while True:\n",
    "    status = transcribe.get_transcription_job(TranscriptionJobName=job_name)\n",
    "    if status['TranscriptionJob']['TranscriptionJobStatus'] in ['COMPLETED', 'FAILED']:\n",
    "        break\n",
    "    print(\"Not ready yet...\")\n",
    "    time.sleep(10)\n",
    "print(status)"
   ]
  },
  {
   "cell_type": "code",
   "execution_count": null,
   "metadata": {},
   "outputs": [],
   "source": [
    "job_name = \"Spanish_Easy_Transcribed\"\n",
    "job_uri = \"https://350-public-audio-files.s3.amazonaws.com/Spanish+Easy+Audio+Extracted.wav\"\n",
    "\n",
    "transcribe.start_transcription_job(\n",
    "    TranscriptionJobName=job_name,\n",
    "    Media={'MediaFileUri': job_uri},\n",
    "    MediaFormat='wav',\n",
    "    LanguageCode='en-US',\n",
    "    OutputBucketName='350-public-generated-transcript'\n",
    ")\n",
    "while True:\n",
    "    status = transcribe.get_transcription_job(TranscriptionJobName=job_name)\n",
    "    if status['TranscriptionJob']['TranscriptionJobStatus'] in ['COMPLETED', 'FAILED']:\n",
    "        break\n",
    "    print(\"Not ready yet...\")\n",
    "    time.sleep(10)\n",
    "print(status)"
   ]
  },
  {
   "cell_type": "code",
   "execution_count": null,
   "metadata": {},
   "outputs": [],
   "source": [
    "job_name = \"Spanish_Medium_Transcribed\"\n",
    "job_uri = \"https://350-public-audio-files.s3.amazonaws.com/Spanish+Medium+Audio+Extracted.wav\"\n",
    "\n",
    "transcribe.start_transcription_job(\n",
    "    TranscriptionJobName=job_name,\n",
    "    Media={'MediaFileUri': job_uri},\n",
    "    MediaFormat='wav',\n",
    "    LanguageCode='en-US',\n",
    "    OutputBucketName='350-public-generated-transcript'\n",
    ")\n",
    "while True:\n",
    "    status = transcribe.get_transcription_job(TranscriptionJobName=job_name)\n",
    "    if status['TranscriptionJob']['TranscriptionJobStatus'] in ['COMPLETED', 'FAILED']:\n",
    "        break\n",
    "    print(\"Not ready yet...\")\n",
    "    time.sleep(10)\n",
    "print(status)"
   ]
  },
  {
   "cell_type": "code",
   "execution_count": null,
   "metadata": {},
   "outputs": [],
   "source": [
    "job_name = \"Spanish_Hard_Transcribed\"\n",
    "job_uri = \"https://350-public-audio-files.s3.amazonaws.com/Spanish+Hard+Audio+Extracted.wav\"\n",
    "\n",
    "transcribe.start_transcription_job(\n",
    "    TranscriptionJobName=job_name,\n",
    "    Media={'MediaFileUri': job_uri},\n",
    "    MediaFormat='wav',\n",
    "    LanguageCode='en-US',\n",
    "    OutputBucketName='350-public-generated-transcript'\n",
    ")\n",
    "while True:\n",
    "    status = transcribe.get_transcription_job(TranscriptionJobName=job_name)\n",
    "    if status['TranscriptionJob']['TranscriptionJobStatus'] in ['COMPLETED', 'FAILED']:\n",
    "        break\n",
    "    print(\"Not ready yet...\")\n",
    "    time.sleep(10)\n",
    "print(status)"
   ]
  },
  {
   "cell_type": "markdown",
   "metadata": {},
   "source": [
    "## Extract transcripts in string format for comparison:"
   ]
  },
  {
   "cell_type": "code",
   "execution_count": 6,
   "metadata": {},
   "outputs": [
    {
     "name": "stdout",
     "output_type": "stream",
     "text": [
      "Collecting python-Levenshtein\n",
      "  Downloading python-Levenshtein-0.12.0.tar.gz (48 kB)\n",
      "\u001b[K     |████████████████████████████████| 48 kB 5.9 MB/s  eta 0:00:01\n",
      "\u001b[?25hRequirement already satisfied: setuptools in /home/ec2-user/anaconda3/envs/python3/lib/python3.6/site-packages (from python-Levenshtein) (45.2.0.post20200210)\n",
      "Building wheels for collected packages: python-Levenshtein\n",
      "  Building wheel for python-Levenshtein (setup.py) ... \u001b[?25ldone\n",
      "\u001b[?25h  Created wheel for python-Levenshtein: filename=python_Levenshtein-0.12.0-cp36-cp36m-linux_x86_64.whl size=151448 sha256=3d7916d80cc0a6619b3ff370101a39cf0c69f7a4cf299729a580d8653db0ea1e\n",
      "  Stored in directory: /home/ec2-user/.cache/pip/wheels/79/c3/a1/cbdd8b154234b3e571d121b65be7d53354cc77e223e8f271c8\n",
      "Successfully built python-Levenshtein\n",
      "Installing collected packages: python-Levenshtein\n",
      "Successfully installed python-Levenshtein-0.12.0\n",
      "\u001b[33mWARNING: You are using pip version 20.0.2; however, version 20.2.4 is available.\n",
      "You should consider upgrading via the '/home/ec2-user/anaconda3/envs/python3/bin/python -m pip install --upgrade pip' command.\u001b[0m\n"
     ]
    }
   ],
   "source": [
    "s3 = boto3.resource('s3')\n",
    "\n",
    "# You may need to install python-Levenshtein:\n",
    "!pip install python-Levenshtein\n",
    "import Levenshtein"
   ]
  },
  {
   "cell_type": "code",
   "execution_count": 7,
   "metadata": {},
   "outputs": [],
   "source": [
    "amerEasy = s3.Object('350-public-generated-transcript','American_Easy_Transcribed.json')\n",
    "amerMed = s3.Object('350-public-generated-transcript','American_Medium_Transcribed_Correct.json')\n",
    "amerHard = s3.Object('350-public-generated-transcript','American_Hard_Transcribed.json')\n",
    "\n",
    "britEasy = s3.Object('350-public-generated-transcript','British_Easy_Transcribed_Correct.json')\n",
    "britMed = s3.Object('350-public-generated-transcript','British_Medium_Transcribed.json')\n",
    "britHard = s3.Object('350-public-generated-transcript','British_Hard_Transcribed.json')\n",
    "\n",
    "chinEasy = s3.Object('350-public-generated-transcript','Chinese_Easy_Transcribed.json')\n",
    "chinMed = s3.Object('350-public-generated-transcript','Chinese_Medium_Transcribed.json')\n",
    "chinHard = s3.Object('350-public-generated-transcript','Chinese_Hard_Transcribed.json')\n",
    "\n",
    "hindiEasy = s3.Object('350-public-generated-transcript','Hindi_Easy_Transcribed.json')\n",
    "hindiMed = s3.Object('350-public-generated-transcript','Hindi_Medium_Transcribed.json')\n",
    "hindiHard = s3.Object('350-public-generated-transcript','Hindi_Hard_Transcribed.json')\n",
    "\n",
    "spanEasy = s3.Object('350-public-generated-transcript','Spanish_Easy_Transcribed.json')\n",
    "spanMed = s3.Object('350-public-generated-transcript','Spanish_Medium_Transcribed.json')\n",
    "spanHard = s3.Object('350-public-generated-transcript','Spanish_Hard_Transcribed.json')"
   ]
  },
  {
   "cell_type": "code",
   "execution_count": 8,
   "metadata": {},
   "outputs": [],
   "source": [
    "actual_Easy = s3.Object('350-actual-transcripts','Easy_Actual_Transcription.txt')\n",
    "easy_actual_str = actual_Easy.get()['Body'].read().decode('utf-8')\n",
    "actual_Med = s3.Object('350-actual-transcripts','Medium_Actual_Transcription.txt')\n",
    "med_actual_str = actual_Easy.get()['Body'].read().decode('utf-8')\n",
    "actual_Hard = s3.Object('350-actual-transcripts','Hard_Actual_Transcription.txt')\n",
    "hard_actual_str = actual_Easy.get()['Body'].read().decode('utf-8')"
   ]
  },
  {
   "cell_type": "code",
   "execution_count": 9,
   "metadata": {},
   "outputs": [],
   "source": [
    "def getLevDist (obj):\n",
    "    content_str = obj.get()['Body'].read().decode('utf-8')    # String\n",
    "    content_json = json.loads(content_str)                    # Dictionary\n",
    "    results_dict = content_json['results']                    # Dictionary\n",
    "    transcript_list = results_dict['transcripts']             # List\n",
    "    transcript_dict = transcript_list[0]                      # Dictionary\n",
    "    transcript_str = content_json['results']['transcripts'][0]['transcript']\n",
    "\n",
    "    if \"Easy\" in str(obj):\n",
    "        actual_str = easy_actual_str\n",
    "        textlevel = \"Easy\"\n",
    "    if \"Med\" in str(obj):\n",
    "        actual_str = med_actual_str\n",
    "        textlevel = \"Medium\"\n",
    "    if \"Hard\" in str(obj):\n",
    "        actual_str = hard_actual_str\n",
    "        textlevel = \"Hard\"\n",
    "        \n",
    "    if \"Amer\" in str(obj):\n",
    "        speaker = \"American_US\"\n",
    "    if \"Brit\" in str(obj):\n",
    "        speaker = \"British_UK\"\n",
    "    if \"Chin\" in str(obj):\n",
    "        speaker = \"Chinese\"\n",
    "    if \"Hindi\" in str(obj):\n",
    "        speaker = \"Hindi\"\n",
    "    if \"Span\" in str(obj):\n",
    "        speaker = \"Spanish\"\n",
    "    \n",
    "    levDist = Levenshtein.distance(transcript_str, actual_str)\n",
    "        \n",
    "    df_results = pd.DataFrame({\"Accent\":[speaker],\n",
    "                               \"Difficulty\":[textlevel],\n",
    "                               \"Lev Distance\":[levDist]})\n",
    "        \n",
    "    return(df_results)"
   ]
  },
  {
   "cell_type": "code",
   "execution_count": 10,
   "metadata": {},
   "outputs": [],
   "source": [
    "overall_df = pd.DataFrame(columns = [\"Accent\", \"Difficulty\", \"Lev Distance\"])\n",
    "overall_df = overall_df.append(getLevDist(obj = amerEasy))\n",
    "overall_df = overall_df.append(getLevDist(obj = amerMed))\n",
    "overall_df = overall_df.append(getLevDist(obj = amerHard))\n",
    "overall_df = overall_df.append(getLevDist(obj = britEasy))\n",
    "overall_df = overall_df.append(getLevDist(obj = britMed))\n",
    "overall_df = overall_df.append(getLevDist(obj = britHard))\n",
    "overall_df = overall_df.append(getLevDist(obj = chinEasy))\n",
    "overall_df = overall_df.append(getLevDist(obj = chinMed))\n",
    "overall_df = overall_df.append(getLevDist(obj = chinHard))\n",
    "overall_df = overall_df.append(getLevDist(obj = hindiEasy))\n",
    "overall_df = overall_df.append(getLevDist(obj = hindiMed))\n",
    "overall_df = overall_df.append(getLevDist(obj = hindiHard))\n",
    "overall_df = overall_df.append(getLevDist(obj = spanEasy))\n",
    "overall_df = overall_df.append(getLevDist(obj = spanMed))\n",
    "overall_df = overall_df.append(getLevDist(obj = spanHard))\n",
    "## This could be a for loop"
   ]
  },
  {
   "cell_type": "code",
   "execution_count": 11,
   "metadata": {},
   "outputs": [
    {
     "name": "stdout",
     "output_type": "stream",
     "text": [
      "        Accent Difficulty Lev Distance\n",
      "0  American_US       Easy           90\n",
      "0  American_US     Medium         1150\n",
      "0  American_US       Hard         1180\n",
      "0   British_UK       Easy           98\n",
      "0   British_UK     Medium         1150\n",
      "0   British_UK       Hard         1178\n",
      "0      Chinese       Easy          221\n",
      "0      Chinese     Medium         1160\n",
      "0      Chinese       Hard         1181\n",
      "0        Hindi       Easy          114\n",
      "0        Hindi     Medium         1147\n",
      "0        Hindi       Hard         1178\n",
      "0      Spanish       Easy          308\n",
      "0      Spanish     Medium         1154\n",
      "0      Spanish       Hard         1168\n"
     ]
    }
   ],
   "source": [
    "print(overall_df)"
   ]
  },
  {
   "cell_type": "markdown",
   "metadata": {},
   "source": [
    "***IT WOULD ALSO BE INTERESTING to visualize Transcribe's confidence in the resulting transcriptions. Maybe it knows it didn't do that great a\n",
    "job in some places."
   ]
  }
 ],
 "metadata": {
  "kernelspec": {
   "display_name": "conda_python3",
   "language": "python",
   "name": "conda_python3"
  },
  "language_info": {
   "codemirror_mode": {
    "name": "ipython",
    "version": 3
   },
   "file_extension": ".py",
   "mimetype": "text/x-python",
   "name": "python",
   "nbconvert_exporter": "python",
   "pygments_lexer": "ipython3",
   "version": "3.6.10"
  }
 },
 "nbformat": 4,
 "nbformat_minor": 4
}
